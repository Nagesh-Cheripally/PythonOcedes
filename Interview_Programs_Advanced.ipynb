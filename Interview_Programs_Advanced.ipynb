{
  "nbformat": 4,
  "nbformat_minor": 0,
  "metadata": {
    "colab": {
      "provenance": []
    },
    "kernelspec": {
      "name": "python3",
      "display_name": "Python 3"
    },
    "language_info": {
      "name": "python"
    }
  },
  "cells": [
    {
      "cell_type": "markdown",
      "source": [
        "### Fibonacci Series and Sum"
      ],
      "metadata": {
        "id": "wVkxOxsm00iw"
      }
    },
    {
      "cell_type": "code",
      "execution_count": null,
      "metadata": {
        "colab": {
          "base_uri": "https://localhost:8080/"
        },
        "id": "DDe2jRj3kyVH",
        "outputId": "92e9df31-7772-485e-8162-5facb9ec65af"
      },
      "outputs": [
        {
          "output_type": "stream",
          "name": "stdout",
          "text": [
            "Enter n-terms to generate fibonacci series : 5\n",
            "Fibonacci Series Sum of 5 -> 7 and series -> [0, 1, 1, 2, 3]\n"
          ]
        }
      ],
      "source": [
        "def fibonacci(n_terms):\n",
        "  if n_terms <= 0:\n",
        "      return 0, []\n",
        "  elif n_terms == 1:\n",
        "      return 0, [0]\n",
        "  fib_series = [0,1]\n",
        "  for _ in range(2, n_terms):\n",
        "    fib_series.append(fib_series[-1]+fib_series[-2])\n",
        "  return sum(fib_series), fib_series\n",
        "\n",
        "try:\n",
        "  n_terms = int(input(\"Enter n-terms to generate fibonacci series : \"))\n",
        "  if n_terms < 0:\n",
        "    print(\"Please Enter Positive Integer\")\n",
        "  else:\n",
        "    sum_of_series, fib_series = fibonacci(n_terms)\n",
        "    print(f\"Fibonacci Series Sum of {n_terms} -> {sum_of_series} and series -> {fib_series}\")\n",
        "except ValueError:\n",
        "  print(\"Invalid input! Enter valid integer\")\n"
      ]
    },
    {
      "cell_type": "markdown",
      "source": [
        "### Largest element in array and it's index number"
      ],
      "metadata": {
        "id": "4xh0HNWb6HBb"
      }
    },
    {
      "cell_type": "code",
      "source": [
        "arr =[1,2,3,4,5,6]\n",
        "max_arr = arr.index(max(arr))\n",
        "max_arr"
      ],
      "metadata": {
        "colab": {
          "base_uri": "https://localhost:8080/"
        },
        "id": "jvNhlAnG34JV",
        "outputId": "91ca0cf4-49d9-4456-a36e-76b23742f759"
      },
      "execution_count": null,
      "outputs": [
        {
          "output_type": "execute_result",
          "data": {
            "text/plain": [
              "5"
            ]
          },
          "metadata": {},
          "execution_count": 54
        }
      ]
    },
    {
      "cell_type": "markdown",
      "source": [
        "### Find consective largest subsequence"
      ],
      "metadata": {
        "id": "pJKuwfzv6K4C"
      }
    },
    {
      "cell_type": "code",
      "source": [
        "def find_largest_consecutive_subsequence(arr):\n",
        "    if not arr:\n",
        "        return 0\n",
        "\n",
        "    # Remove duplicates and sort the array\n",
        "    arr = sorted(set(arr))\n",
        "    max_length = 1\n",
        "    current_length = 1\n",
        "\n",
        "    # Iterate through the sorted, unique array\n",
        "    for i in range(1, len(arr)):\n",
        "        if arr[i] == arr[i - 1] + 1:  # Check if consecutive\n",
        "            current_length += 1\n",
        "        else:  # Reset the sequence length\n",
        "            current_length = 1\n",
        "        max_length = max(max_length, current_length)\n",
        "\n",
        "    return max_length\n",
        "\n",
        "# Example usage\n",
        "arr = [100, 4, 200, 3, 2, 6, 54, 55, 56, 5, 9,10]\n",
        "print(\"Length of the largest consecutive subsequence:\", find_largest_consecutive_subsequence(arr))\n"
      ],
      "metadata": {
        "colab": {
          "base_uri": "https://localhost:8080/"
        },
        "id": "eMDwY82Y34HG",
        "outputId": "61b8cf12-6682-4740-f56d-dad0decdfbb3"
      },
      "execution_count": null,
      "outputs": [
        {
          "output_type": "stream",
          "name": "stdout",
          "text": [
            "Length of the largest consecutive subsequence: 5\n"
          ]
        }
      ]
    },
    {
      "cell_type": "markdown",
      "source": [
        "### Remove space from String"
      ],
      "metadata": {
        "id": "Pol8LE4FNAfQ"
      }
    },
    {
      "cell_type": "code",
      "source": [
        "string = \"I love living and Jogging\"\n",
        "print(string.replace(\" \", \"\"))"
      ],
      "metadata": {
        "colab": {
          "base_uri": "https://localhost:8080/"
        },
        "id": "poOjxd-2LY4z",
        "outputId": "8ee3c3a2-1367-4fb6-8c65-9b3018c1e811"
      },
      "execution_count": null,
      "outputs": [
        {
          "output_type": "stream",
          "name": "stdout",
          "text": [
            "IlovelivingandJogging\n"
          ]
        }
      ]
    },
    {
      "cell_type": "code",
      "source": [
        "import re\n",
        "\n",
        "def remove_numbers_and_special_characters(input_string):\n",
        "    # Use a regex pattern to retain only alphabetic characters (both uppercase and lowercase)\n",
        "    cleaned_string = re.sub(r'[^a-zA-Z\\s]', '', input_string)\n",
        "    return cleaned_string\n",
        "\n",
        "# Example usage\n",
        "test_string = \"Hello123! Welcome to the @world of #Python.\"\n",
        "result = remove_numbers_and_special_characters(test_string)\n",
        "print(\"Original string:\", test_string)\n",
        "print(\"Cleaned string:\", result)\n"
      ],
      "metadata": {
        "colab": {
          "base_uri": "https://localhost:8080/"
        },
        "id": "lXm0ukYdM0FJ",
        "outputId": "44794a07-b50e-4a51-82a7-3cdde8d95fc7"
      },
      "execution_count": null,
      "outputs": [
        {
          "output_type": "stream",
          "name": "stdout",
          "text": [
            "Original string: Hello123! Welcome to the @world of #Python.\n",
            "Cleaned string: Hello Welcome to the world of Python\n"
          ]
        }
      ]
    },
    {
      "cell_type": "code",
      "source": [
        "import re\n",
        "\n",
        "def process_string(input_string):\n",
        "    letters = []\n",
        "    numbers = []\n",
        "    special_characters = []\n",
        "\n",
        "    # Iterate through each character in the string\n",
        "    for char in input_string:\n",
        "        if char.isalpha():  # Check if it's a letter\n",
        "            letters.append(char)\n",
        "        elif char.isdigit():  # Check if it's a number\n",
        "            numbers.append(char)\n",
        "        elif not char.isspace():  # Check if it's a special character (not a space)\n",
        "            special_characters.append(char)\n",
        "\n",
        "    # Combine the letters into a cleaned string\n",
        "    cleaned_string = ''.join(letters)\n",
        "\n",
        "    return cleaned_string, numbers, special_characters\n",
        "\n",
        "# Example usage\n",
        "test_string = \"Hello123! Welcome to the @world of #Python.\"\n",
        "cleaned_string, numbers, special_characters = process_string(test_string)\n",
        "\n",
        "print(\"Original string:\", test_string)\n",
        "print(\"Cleaned string (letters only):\", cleaned_string)\n",
        "print(\"Numbers:\", numbers)\n",
        "print(\"Special characters:\", special_characters)\n"
      ],
      "metadata": {
        "colab": {
          "base_uri": "https://localhost:8080/"
        },
        "id": "m2_VnDWBM0CY",
        "outputId": "262a8e5b-6a67-4f64-d532-c70e1c15725c"
      },
      "execution_count": null,
      "outputs": [
        {
          "output_type": "stream",
          "name": "stdout",
          "text": [
            "Original string: Hello123! Welcome to the @world of #Python.\n",
            "Cleaned string (letters only): HelloWelcometotheworldofPython\n",
            "Numbers: ['1', '2', '3']\n",
            "Special characters: ['!', '@', '#', '.']\n"
          ]
        }
      ]
    },
    {
      "cell_type": "markdown",
      "source": [
        "### Automorphic number"
      ],
      "metadata": {
        "id": "mrHDCy3SQyNv"
      }
    },
    {
      "cell_type": "code",
      "source": [
        "def is_automorphic(number):\n",
        "    square = number ** 2\n",
        "    return str(square).endswith(str(number))\n",
        "\n",
        "# Test the function\n",
        "number = 75\n",
        "if is_automorphic(number):\n",
        "    print(f\"{number} is an Automorphic number.\")\n",
        "else:\n",
        "    print(f\"{number} is not an Automorphic number.\")\n"
      ],
      "metadata": {
        "colab": {
          "base_uri": "https://localhost:8080/"
        },
        "id": "yDQUL4oVM0AK",
        "outputId": "579f0d1a-e6e1-4f66-effe-44ea0579268b"
      },
      "execution_count": null,
      "outputs": [
        {
          "output_type": "stream",
          "name": "stdout",
          "text": [
            "75 is not an Automorphic number.\n"
          ]
        }
      ]
    },
    {
      "cell_type": "markdown",
      "source": [
        "### Sum of Natural numbers using Recursion"
      ],
      "metadata": {
        "id": "qlEkD1aPRM7T"
      }
    },
    {
      "cell_type": "code",
      "source": [
        "def sum_of_natural_numbers(n):\n",
        "    if n == 1:  # Base case\n",
        "        return 1\n",
        "    else:\n",
        "        return n + sum_of_natural_numbers(n - 1)  # Recursive call\n",
        "\n",
        "# Test the function\n",
        "n = 5\n",
        "result = sum_of_natural_numbers(n)\n",
        "print(f\"The sum of the first {n} natural numbers is: {result}\")\n"
      ],
      "metadata": {
        "colab": {
          "base_uri": "https://localhost:8080/"
        },
        "id": "HtoYhnFsMz9u",
        "outputId": "22033a18-a4f3-4f64-ea88-ed3a72dd60df"
      },
      "execution_count": null,
      "outputs": [
        {
          "output_type": "stream",
          "name": "stdout",
          "text": [
            "The sum of the first 5 natural numbers is: 15\n"
          ]
        }
      ]
    },
    {
      "cell_type": "markdown",
      "source": [
        " ### Find Ciricular Rotation of an array by K positions"
      ],
      "metadata": {
        "id": "H-Y0khYjSYhf"
      }
    },
    {
      "cell_type": "code",
      "source": [
        "def circular_rotation(arr, k):\n",
        "    n = len(arr)\n",
        "    k = k % n  # Handle cases where k > n\n",
        "    rotated_array = arr[-k:] + arr[:-k]  # Split and concatenate\n",
        "    return rotated_array\n",
        "\n",
        "# Test the function\n",
        "arr = [1, \"a\", 2, 3, 4, 5]\n",
        "k = 2\n",
        "result = circular_rotation(arr, k)\n",
        "print(f\"Array after {k} circular rotations: {result}\")\n"
      ],
      "metadata": {
        "colab": {
          "base_uri": "https://localhost:8080/"
        },
        "id": "34Dvb2JlMz7E",
        "outputId": "9dc93310-9736-498f-b0ec-8e0ce1ed4a87"
      },
      "execution_count": null,
      "outputs": [
        {
          "output_type": "stream",
          "name": "stdout",
          "text": [
            "Array after 2 circular rotations: [4, 5, 1, 'a', 2, 3]\n"
          ]
        }
      ]
    },
    {
      "cell_type": "markdown",
      "source": [
        "### Replace each element in a array by it's rank"
      ],
      "metadata": {
        "id": "TlEyAeDGTrDz"
      }
    },
    {
      "cell_type": "code",
      "source": [],
      "metadata": {
        "id": "Q15GXPyiJ9Kv"
      },
      "execution_count": null,
      "outputs": []
    },
    {
      "cell_type": "markdown",
      "source": [
        "### Replace a substring in a string"
      ],
      "metadata": {
        "id": "nWUGHaj2W4ni"
      }
    },
    {
      "cell_type": "code",
      "source": [
        "text = \"I live in Hyderabad\"\n",
        "replaced_string = text.replace(\"Hyderabad\", \"Chennai\")\n",
        "replaced_string"
      ],
      "metadata": {
        "colab": {
          "base_uri": "https://localhost:8080/",
          "height": 35
        },
        "id": "uzXlcQmYMz4h",
        "outputId": "17ab0dfe-71cb-4904-9359-e6cdc13cbf39"
      },
      "execution_count": null,
      "outputs": [
        {
          "output_type": "execute_result",
          "data": {
            "text/plain": [
              "'I live in Chennai'"
            ],
            "application/vnd.google.colaboratory.intrinsic+json": {
              "type": "string"
            }
          },
          "metadata": {},
          "execution_count": 76
        }
      ]
    },
    {
      "cell_type": "code",
      "source": [
        "text = \"The quick brown fox jumps over the lazy dog.\"\n",
        "old_substring = input(\"Enter the substring to replace: \")\n",
        "new_substring = input(\"Enter the new substring: \")\n",
        "result = text.replace(old_substring, new_substring)\n",
        "print(f\"Updated string: {result}\")\n"
      ],
      "metadata": {
        "colab": {
          "base_uri": "https://localhost:8080/"
        },
        "id": "ZOjfEYL-Mz2J",
        "outputId": "f8bb6566-8af8-4a1d-f2af-dfdba531dcc0"
      },
      "execution_count": null,
      "outputs": [
        {
          "output_type": "stream",
          "name": "stdout",
          "text": [
            "Enter the substring to replace: jumps\n",
            "Enter the new substring: runs\n",
            "Updated string: The quick brown fox runs over the lazy dog.\n"
          ]
        }
      ]
    },
    {
      "cell_type": "markdown",
      "source": [
        "### Reverse a number"
      ],
      "metadata": {
        "id": "syted9zeYVOy"
      }
    },
    {
      "cell_type": "code",
      "source": [
        "def reverse_number(n):\n",
        "    # Handle negative numbers\n",
        "    negative = n < 0\n",
        "    n = abs(n)\n",
        "\n",
        "    # Convert the number to a list of digits\n",
        "    digits = list(str(n))\n",
        "\n",
        "    # Reverse the list\n",
        "    digits.reverse()\n",
        "\n",
        "    # Convert back to an integer\n",
        "    reversed_num = int(\"\".join(digits))\n",
        "\n",
        "    # Restore the sign for negative numbers\n",
        "    return -reversed_num if negative else reversed_num\n",
        "\n",
        "# Example\n",
        "number = 12345\n",
        "print(\"Original Number:\", number)\n",
        "print(\"Reversed Number:\", reverse_number(number))\n",
        "\n",
        "# For a negative number\n",
        "negative_number = -12345\n",
        "print(\"Original Number:\", negative_number)\n",
        "print(\"Reversed Number:\", reverse_number(negative_number))\n"
      ],
      "metadata": {
        "colab": {
          "base_uri": "https://localhost:8080/"
        },
        "id": "Asdm8INIMzxR",
        "outputId": "746fb90d-9610-4fed-a6ce-d1c692e1e990"
      },
      "execution_count": null,
      "outputs": [
        {
          "output_type": "stream",
          "name": "stdout",
          "text": [
            "Original Number: 12345\n",
            "Reversed Number: 54321\n",
            "Original Number: -12345\n",
            "Reversed Number: -54321\n"
          ]
        }
      ]
    },
    {
      "cell_type": "markdown",
      "source": [
        "### Check if array is monotonic"
      ],
      "metadata": {
        "id": "_HjV0C8vap3P"
      }
    },
    {
      "cell_type": "code",
      "source": [
        "def is_monotonic(array):\n",
        "    if not array:  # Empty array is considered monotonic\n",
        "        return True\n",
        "\n",
        "    increasing = decreasing = True\n",
        "\n",
        "    for i in range(1, len(array)):\n",
        "        if array[i] > array[i - 1]:\n",
        "            decreasing = False\n",
        "        elif array[i] < array[i - 1]:\n",
        "            increasing = False\n",
        "\n",
        "    return increasing or decreasing\n",
        "\n",
        "# Example usage:\n",
        "array = [1, 2, 2, 3]\n",
        "print(is_monotonic(array))  # Output: True\n",
        "\n",
        "array = [6, 5, 4, 4]\n",
        "print(is_monotonic(array))  # Output: True\n",
        "\n",
        "array = [1, 3, 2]\n",
        "print(is_monotonic(array))  # Output: False\n"
      ],
      "metadata": {
        "colab": {
          "base_uri": "https://localhost:8080/"
        },
        "id": "6B7R9SazLY2b",
        "outputId": "ea778323-1908-46ff-d560-c7810638439d"
      },
      "execution_count": null,
      "outputs": [
        {
          "output_type": "stream",
          "name": "stdout",
          "text": [
            "True\n",
            "True\n",
            "False\n"
          ]
        }
      ]
    },
    {
      "cell_type": "markdown",
      "source": [
        "### Non - Repeating Character in a String"
      ],
      "metadata": {
        "id": "HxbJ2xhIa9c7"
      }
    },
    {
      "cell_type": "code",
      "source": [
        "def first_non_repeating_character(string):\n",
        "    # Create a dictionary to count occurrences of each character\n",
        "    char_count = {}\n",
        "\n",
        "    # Count occurrences of each character\n",
        "    for char in string:\n",
        "        char_count[char] = char_count.get(char, 0) + 1\n",
        "\n",
        "    # Find the first character with a count of 1\n",
        "    for char in string:\n",
        "        if char_count[char] == 1:\n",
        "            return char\n",
        "\n",
        "    return None  # Return None if no non-repeating character is found\n",
        "\n",
        "# Example usage:\n",
        "string = \"swiss\"\n",
        "print(first_non_repeating_character(string))  # Output: 'w'\n",
        "\n",
        "string = \"aabbcc\"\n",
        "print(first_non_repeating_character(string))  # Output: None\n"
      ],
      "metadata": {
        "colab": {
          "base_uri": "https://localhost:8080/"
        },
        "id": "U__LPVf9LY0F",
        "outputId": "ae32d767-8069-4978-a9d8-d5d3c29f7033"
      },
      "execution_count": null,
      "outputs": [
        {
          "output_type": "stream",
          "name": "stdout",
          "text": [
            "w\n",
            "None\n"
          ]
        }
      ]
    },
    {
      "cell_type": "code",
      "source": [
        "string = \"Hyderabad\"\n",
        "string[::-1]"
      ],
      "metadata": {
        "colab": {
          "base_uri": "https://localhost:8080/",
          "height": 35
        },
        "id": "ujUv8ZC4LYxa",
        "outputId": "e2902a56-2474-46ab-921f-dfe22c2d14c2"
      },
      "execution_count": null,
      "outputs": [
        {
          "output_type": "execute_result",
          "data": {
            "text/plain": [
              "'dabaredyH'"
            ],
            "application/vnd.google.colaboratory.intrinsic+json": {
              "type": "string"
            }
          },
          "metadata": {},
          "execution_count": 95
        }
      ]
    },
    {
      "cell_type": "code",
      "source": [
        "def compress_string(string):\n",
        "    if not string:  # Return empty string if input is empty\n",
        "        return \"\"\n",
        "\n",
        "    compressed = []\n",
        "    count = 1\n",
        "\n",
        "    # Iterate through the string\n",
        "    for i in range(1, len(string)):\n",
        "        if string[i] == string[i - 1]:\n",
        "            count += 1  # Increment count if the current character is the same as the previous one\n",
        "        else:\n",
        "            compressed.append(string[i - 1] + str(count))  # Append the character and its count\n",
        "            count = 1  # Reset count for the next character\n",
        "\n",
        "    # Append the last character and its count\n",
        "    compressed.append(string[-1] + str(count))\n",
        "\n",
        "    # Join the compressed parts and return the smaller of the original or compressed string\n",
        "    compressed_string = ''.join(compressed)\n",
        "    return compressed_string if len(compressed_string) < len(string) else string\n",
        "\n",
        "# Example usage:\n",
        "string = \"aabcccccaaa\"\n",
        "print(compress_string(string))  # Output: \"a2b1c5a3\"\n",
        "\n",
        "string = \"abc\"\n",
        "print(compress_string(string))  # Output: \"abc\" (since the compressed version is not smaller)\n"
      ],
      "metadata": {
        "colab": {
          "base_uri": "https://localhost:8080/"
        },
        "id": "ONiMOpl7LYur",
        "outputId": "0882079c-651d-4556-ee16-3cafc4f39330"
      },
      "execution_count": null,
      "outputs": [
        {
          "output_type": "stream",
          "name": "stdout",
          "text": [
            "a2b1c5a3\n",
            "abc\n"
          ]
        }
      ]
    },
    {
      "cell_type": "markdown",
      "source": [
        "### Return the longest sub string without repeating characters"
      ],
      "metadata": {
        "id": "2pEmhFFZlRoU"
      }
    },
    {
      "cell_type": "code",
      "source": [
        "def longest_unique_substring(s):\n",
        "    # Dictionary to store the last index of each character\n",
        "    char_index = {}\n",
        "    start = 0  # Start of the sliding window\n",
        "    max_length = 0\n",
        "    longest_substring = \"\"\n",
        "\n",
        "    for end in range(len(s)):\n",
        "        if s[end] in char_index and char_index[s[end]] >= start:\n",
        "            # Update the start position of the window\n",
        "            start = char_index[s[end]] + 1\n",
        "\n",
        "        # Update the character's last seen index\n",
        "        char_index[s[end]] = end\n",
        "\n",
        "        # Update max length and the longest substring if necessary\n",
        "        if end - start + 1 > max_length:\n",
        "            max_length = end - start + 1\n",
        "            longest_substring = s[start:end + 1]\n",
        "\n",
        "    return longest_substring\n",
        "\n",
        "# Example usage:\n",
        "string = \"abcabcbb\"\n",
        "print(longest_unique_substring(string))  # Output: \"abc\"\n",
        "\n",
        "string = \"bbbbb\"\n",
        "print(longest_unique_substring(string))  # Output: \"b\"\n",
        "\n",
        "string = \"pwwkew\"\n",
        "print(longest_unique_substring(string))  # Output: \"wke\"\n"
      ],
      "metadata": {
        "colab": {
          "base_uri": "https://localhost:8080/"
        },
        "id": "Lg8CcACflXe9",
        "outputId": "9723a1fa-c394-46e3-d181-76bd9ca70170"
      },
      "execution_count": null,
      "outputs": [
        {
          "output_type": "stream",
          "name": "stdout",
          "text": [
            "abc\n",
            "b\n",
            "wke\n"
          ]
        }
      ]
    },
    {
      "cell_type": "markdown",
      "source": [
        "### Greatest Common Divisor of Strings"
      ],
      "metadata": {
        "id": "ZziUJ8qHlfeG"
      }
    },
    {
      "cell_type": "code",
      "source": [
        "def gcd_of_strings(str1, str2):\n",
        "    # Check if str1 + str2 is the same as str2 + str1\n",
        "    if str1 + str2 != str2 + str1:\n",
        "        return \"\"\n",
        "\n",
        "    # Find the GCD of the lengths of the two strings\n",
        "    import math\n",
        "    gcd_length = math.gcd(len(str1), len(str2))\n",
        "\n",
        "    # Return the substring of length gcd_length\n",
        "    return str1[:gcd_length]\n",
        "\n",
        "# Example usage:\n",
        "str1 = \"ABABAB\"\n",
        "str2 = \"ABAB\"\n",
        "print(gcd_of_strings(str1, str2))  # Output: \"AB\"\n",
        "\n",
        "str1 = \"ABCDEF\"\n",
        "str2 = \"ABC\"\n",
        "print(gcd_of_strings(str1, str2))  # Output: \"\"\n"
      ],
      "metadata": {
        "colab": {
          "base_uri": "https://localhost:8080/"
        },
        "id": "ZgUixwe60c7W",
        "outputId": "30cf9b27-9212-441d-fda1-f34ee87fd929"
      },
      "execution_count": null,
      "outputs": [
        {
          "output_type": "stream",
          "name": "stdout",
          "text": [
            "AB\n",
            "\n"
          ]
        }
      ]
    },
    {
      "cell_type": "markdown",
      "source": [
        "### Unique Number of Occurences"
      ],
      "metadata": {
        "id": "Ec2tcP_O1zay"
      }
    },
    {
      "cell_type": "code",
      "source": [
        "def unique_occurrences(arr):\n",
        "    from collections import Counter\n",
        "\n",
        "    # Count the occurrences of each element\n",
        "    occurrences = Counter(arr)\n",
        "\n",
        "    # Extract the occurrence counts\n",
        "    counts = list(occurrences.values())\n",
        "\n",
        "    # Check if all counts are unique by comparing list and set lengths\n",
        "    return len(counts) == len(set(counts))\n",
        "\n",
        "# Example usage\n",
        "example_array1 = [1, 2, 2, 1, 1, 3]\n",
        "print(unique_occurrences(example_array1))  # Output: True\n",
        "\n",
        "example_array2 = [1, 2, 2, 3, 3, 3]\n",
        "print(unique_occurrences(example_array2))  # Output: True\n",
        "\n",
        "example_array3 = [1, 1, 2, 2, 3, 3]\n",
        "print(unique_occurrences(example_array3))  # Output: False\n"
      ],
      "metadata": {
        "colab": {
          "base_uri": "https://localhost:8080/"
        },
        "id": "ONIqz43w1y_K",
        "outputId": "dd13fb0c-18ce-4453-afc7-7ea00ca3cdb4"
      },
      "execution_count": null,
      "outputs": [
        {
          "output_type": "stream",
          "name": "stdout",
          "text": [
            "True\n",
            "True\n",
            "False\n"
          ]
        }
      ]
    },
    {
      "cell_type": "markdown",
      "source": [
        "### Difference between two arrays"
      ],
      "metadata": {
        "id": "8JzCkIff3nPO"
      }
    },
    {
      "cell_type": "code",
      "source": [
        "import numpy as np\n",
        "\n",
        "array1 = np.array([1, 2, 3, 4, 5])\n",
        "array2 = np.array([4, 5, 6, 7, 8])\n",
        "\n",
        "# Elements in array1 but not in array2\n",
        "difference = np.setdiff1d(array1, array2)\n",
        "print(difference)  # Output: [1, 2, 3]\n"
      ],
      "metadata": {
        "colab": {
          "base_uri": "https://localhost:8080/"
        },
        "id": "tRVGu0A94hRH",
        "outputId": "b5354950-8390-465c-99d2-38ec1355f9e0"
      },
      "execution_count": null,
      "outputs": [
        {
          "output_type": "stream",
          "name": "stdout",
          "text": [
            "[1 2 3]\n"
          ]
        }
      ]
    },
    {
      "cell_type": "code",
      "source": [
        "set1 = set([1, 2, 3, 4, 5])\n",
        "set2 = set([4, 5, 6, 7, 8])\n",
        "\n",
        "symmetric_diff = set1.symmetric_difference(set2)\n",
        "print(symmetric_diff)  # Output: {1, 2, 3, 6, 7, 8}\n"
      ],
      "metadata": {
        "colab": {
          "base_uri": "https://localhost:8080/"
        },
        "id": "XKL3i-uF5YnF",
        "outputId": "764e069e-1d69-4951-a275-b1fb1e5b4d12"
      },
      "execution_count": null,
      "outputs": [
        {
          "output_type": "stream",
          "name": "stdout",
          "text": [
            "{1, 2, 3, 6, 7, 8}\n"
          ]
        }
      ]
    },
    {
      "cell_type": "markdown",
      "source": [
        "Is_Palindrome"
      ],
      "metadata": {
        "id": "Uleflnjs6BG0"
      }
    },
    {
      "cell_type": "code",
      "source": [
        "def is_palindrome(string):\n",
        "    # Convert the string to lowercase and remove spaces\n",
        "    string = string.lower().replace(\" \", \"\")\n",
        "\n",
        "    # Check if the string is equal to its reverse\n",
        "    return string == string[::-1]\n",
        "\n",
        "# Input\n",
        "input_string = input(\"Enter a string: \")\n",
        "\n",
        "# Check if the string is a palindrome\n",
        "if is_palindrome(input_string):\n",
        "    print(f\"'{input_string}' is a palindrome.\")\n",
        "else:\n",
        "    print(f\"'{input_string}' is not a palindrome.\")\n"
      ],
      "metadata": {
        "colab": {
          "base_uri": "https://localhost:8080/"
        },
        "id": "NJ_Kawfq4hOf",
        "outputId": "b0f4cfc0-fbf4-41b9-cd64-2336dd2f8409"
      },
      "execution_count": null,
      "outputs": [
        {
          "output_type": "stream",
          "name": "stdout",
          "text": [
            "Enter a string: madam\n",
            "'madam' is a palindrome.\n"
          ]
        }
      ]
    },
    {
      "cell_type": "markdown",
      "source": [
        "### Most common element in list"
      ],
      "metadata": {
        "id": "iJqUSCZ56q8X"
      }
    },
    {
      "cell_type": "code",
      "source": [
        "def find_common_elements(list1, list2):\n",
        "    # Use set intersection to find common elements\n",
        "    return list(set(list1) & set(list2))\n",
        "\n",
        "# Input: Two lists\n",
        "list1 = input(\"Enter elements of the first list separated by space: \").split()\n",
        "list2 = input(\"Enter elements of the second list separated by space: \").split()\n",
        "\n",
        "# Find and print common elements\n",
        "common_elements = find_common_elements(list1, list2)\n",
        "\n",
        "if common_elements:\n",
        "    print(f\"Common elements between the two lists are: {common_elements}\")\n",
        "else:\n",
        "    print(\"There are no common elements between the two lists.\")\n"
      ],
      "metadata": {
        "colab": {
          "base_uri": "https://localhost:8080/"
        },
        "id": "qiQ5vzAX4hMD",
        "outputId": "8f06a153-7826-4322-b201-10626ebf9dc9"
      },
      "execution_count": null,
      "outputs": [
        {
          "output_type": "stream",
          "name": "stdout",
          "text": [
            "Enter elements of the first list separated by space: 1 2 3 4 5 6\n",
            "Enter elements of the second list separated by space: 1 2 3 4 6 7\n",
            "Common elements between the two lists are: ['2', '4', '6', '3', '1']\n"
          ]
        }
      ]
    },
    {
      "cell_type": "markdown",
      "source": [
        "### Check substring in main string:"
      ],
      "metadata": {
        "id": "BOqJ-KPd6zzq"
      }
    },
    {
      "cell_type": "code",
      "source": [
        "# Input: Main string and substring\n",
        "main_string = input(\"Enter the main string: \")\n",
        "substring = input(\"Enter the substring to check: \")\n",
        "\n",
        "# Check if substring is in the main string\n",
        "if substring in main_string:\n",
        "    print(f\"'{substring}' is present in the main string.\")\n",
        "else:\n",
        "    print(f\"'{substring}' is not present in the main string.\")\n"
      ],
      "metadata": {
        "colab": {
          "base_uri": "https://localhost:8080/"
        },
        "id": "CotcjJzq4hJd",
        "outputId": "6a507988-2a38-4545-eacd-48fc058b925f"
      },
      "execution_count": null,
      "outputs": [
        {
          "output_type": "stream",
          "name": "stdout",
          "text": [
            "Enter the main string: hyderabad\n",
            "Enter the substring to check: rabad\n",
            "'rabad' is present in the main string.\n"
          ]
        }
      ]
    },
    {
      "cell_type": "markdown",
      "source": [
        "### Least and Max frequency character in String"
      ],
      "metadata": {
        "id": "p8ts1UI_7NHd"
      }
    },
    {
      "cell_type": "code",
      "source": [],
      "metadata": {
        "id": "On39JHTl7I8M"
      },
      "execution_count": null,
      "outputs": []
    },
    {
      "cell_type": "markdown",
      "source": [
        "### Find Most Sum Pairs"
      ],
      "metadata": {
        "id": "UbllGBZR8ueV"
      }
    },
    {
      "cell_type": "code",
      "source": [
        "def findPairs(lst, K):\n",
        "    seen = set()\n",
        "    res = []\n",
        "    for num in lst:\n",
        "        diff = K - num\n",
        "        if diff in seen:\n",
        "            res.append((diff, num))\n",
        "        seen.add(num)\n",
        "    return res\n",
        "\n",
        "# Driver code\n",
        "lst = [2, 4, 3, 7, 1, 5, 9, -1]\n",
        "K = 6\n",
        "print(findPairs(lst, K))"
      ],
      "metadata": {
        "colab": {
          "base_uri": "https://localhost:8080/"
        },
        "id": "jPaH61Gg81aS",
        "outputId": "6c5bc407-0b1a-4059-b9e4-27f48ce1f777"
      },
      "execution_count": null,
      "outputs": [
        {
          "output_type": "stream",
          "name": "stdout",
          "text": [
            "[(2, 4), (1, 5), (7, -1)]\n"
          ]
        }
      ]
    },
    {
      "cell_type": "code",
      "source": [
        "from itertools import combinations\n",
        "\n",
        "def find_combinations(lst, k, r):\n",
        "    result = []\n",
        "    for combination in combinations(lst, r):\n",
        "        if sum(combination) == k:\n",
        "            result.append(combination)\n",
        "    return result\n",
        "\n",
        "# Driver code\n",
        "lst = [1, 2, 2, 3, 4, 5, 6, 7]\n",
        "k = 8\n",
        "\n",
        "# Find pairs (r=2), triplets (r=3), and quadruplets (r=4)\n",
        "pairs = find_combinations(lst, k, 2)\n",
        "triplets = find_combinations(lst, k, 3)\n",
        "quadruplets = find_combinations(lst, k, 4)\n",
        "\n",
        "print(\"Pairs:\", pairs)\n",
        "print(\"Triplets:\", triplets)\n",
        "print(\"Quadruplets:\", quadruplets)"
      ],
      "metadata": {
        "colab": {
          "base_uri": "https://localhost:8080/"
        },
        "id": "a_ZNub1988ky",
        "outputId": "d7380918-3e7e-40be-aaa2-cc45fd036bc4"
      },
      "execution_count": null,
      "outputs": [
        {
          "output_type": "stream",
          "name": "stdout",
          "text": [
            "Pairs: [(1, 7), (2, 6), (2, 6), (3, 5)]\n",
            "Triplets: [(1, 2, 5), (1, 2, 5), (1, 3, 4), (2, 2, 4)]\n",
            "Quadruplets: [(1, 2, 2, 3)]\n"
          ]
        }
      ]
    },
    {
      "cell_type": "markdown",
      "source": [
        "### Remove duplicates from string"
      ],
      "metadata": {
        "id": "Z12jXNpT9W7n"
      }
    },
    {
      "cell_type": "code",
      "source": [
        "def remove_duplicates(string):\n",
        "    result = \"\"\n",
        "    seen = set()  # To keep track of characters already seen\n",
        "\n",
        "    # Loop through each character in the string\n",
        "    for char in string:\n",
        "        if char not in seen:\n",
        "            result += char  # Add the character to the result if not seen\n",
        "            seen.add(char)  # Mark the character as seen\n",
        "    return result\n",
        "\n",
        "# Input: String\n",
        "input_string = input(\"Enter a string: \")\n",
        "\n",
        "# Get string with duplicates removed\n",
        "output_string = remove_duplicates(input_string)\n",
        "\n",
        "# Display the result\n",
        "print(\"String after removing duplicate occurrences:\", output_string)\n"
      ],
      "metadata": {
        "colab": {
          "base_uri": "https://localhost:8080/"
        },
        "id": "sZCK7GHK8-Kj",
        "outputId": "db21bb29-84f7-4272-f49f-6851b1f49771"
      },
      "execution_count": null,
      "outputs": [
        {
          "output_type": "stream",
          "name": "stdout",
          "text": [
            "Enter a string: Programming\n",
            "String after removing duplicate occurrences: Progamin\n"
          ]
        }
      ]
    },
    {
      "cell_type": "markdown",
      "source": [
        "### Replace words with K"
      ],
      "metadata": {
        "id": "3jBlv3j39f-9"
      }
    },
    {
      "cell_type": "code",
      "source": [
        "def replace_words(string, words_to_replace):\n",
        "    for word in words_to_replace:\n",
        "        string = string.replace(word, 'K')\n",
        "    return string\n",
        "\n",
        "# Input: Main string and words to replace\n",
        "main_string = input(\"Enter the main string: \")\n",
        "words_to_replace = input(\"Enter the words to replace (separated by space): \").split()\n",
        "\n",
        "# Replace the words with 'K'\n",
        "output_string = replace_words(main_string, words_to_replace)\n",
        "\n",
        "# Display the result\n",
        "print(\"String after replacements:\", output_string)\n"
      ],
      "metadata": {
        "colab": {
          "base_uri": "https://localhost:8080/"
        },
        "id": "7tx1dFJg9ibv",
        "outputId": "6adaea3a-cfd3-485b-a8c5-57fafacec5b4"
      },
      "execution_count": null,
      "outputs": [
        {
          "output_type": "stream",
          "name": "stdout",
          "text": [
            "Enter the main string: Madam\n",
            "Enter the words to replace (separated by space): adam\n",
            "String after replacements: MK\n"
          ]
        }
      ]
    },
    {
      "cell_type": "markdown",
      "source": [
        "All recurring characters in string"
      ],
      "metadata": {
        "id": "ImTuQDke9f8v"
      }
    },
    {
      "cell_type": "code",
      "source": [
        "def all_recurring_chars(string):\n",
        "    seen = []\n",
        "    recurring_chars = []\n",
        "\n",
        "    # Iterate through the string and track the first occurrence\n",
        "    for i, char in enumerate(string):\n",
        "        if char in seen:\n",
        "            recurring_chars.append((char, seen.index(char) + 1))  # Store char and its 1-based index\n",
        "        else:\n",
        "            seen.append(char)\n",
        "\n",
        "    return recurring_chars if recurring_chars else \"None\"\n",
        "\n",
        "# Input: String\n",
        "input_string = input(\"Enter a string: \")\n",
        "\n",
        "# Get all recurring characters with positions\n",
        "result = all_recurring_chars(input_string)\n",
        "\n",
        "# Display the result\n",
        "if result == \"None\":\n",
        "    print(\"No recurring characters.\")\n",
        "else:\n",
        "    for char, position in result:\n",
        "        print(f\"Character '{char}' first recurs at position {position}\")\n"
      ],
      "metadata": {
        "colab": {
          "base_uri": "https://localhost:8080/"
        },
        "id": "vs2w6XC8-lG2",
        "outputId": "f7035591-b9b4-4c20-8ea8-03c72dda63b0"
      },
      "execution_count": null,
      "outputs": [
        {
          "output_type": "stream",
          "name": "stdout",
          "text": [
            "Enter a string: Programming\n",
            "Character 'r' first recurs at position 2\n",
            "Character 'm' first recurs at position 6\n",
            "Character 'g' first recurs at position 4\n"
          ]
        }
      ]
    },
    {
      "cell_type": "markdown",
      "source": [
        "### Issubsequence"
      ],
      "metadata": {
        "id": "QX4xHZhH9f6A"
      }
    },
    {
      "cell_type": "code",
      "source": [],
      "metadata": {
        "id": "3iQMF2KU8-Dw"
      },
      "execution_count": null,
      "outputs": []
    },
    {
      "cell_type": "markdown",
      "source": [
        "### Merge Sorted Array"
      ],
      "metadata": {
        "id": "DHUCIuU4ZDVy"
      }
    },
    {
      "cell_type": "code",
      "source": [
        "def merge_sorted_arrays(arr1, arr2):\n",
        "    return sorted(arr1 + arr2)\n",
        "\n",
        "# Example Usage\n",
        "array1 = [1, 3, 5, 7]\n",
        "array2 = [2, 4, 6, 8]\n",
        "result = merge_sorted_arrays(array1, array2)\n",
        "print(\"Merged Sorted Array:\", result)\n"
      ],
      "metadata": {
        "colab": {
          "base_uri": "https://localhost:8080/"
        },
        "id": "bOSqF3os8-BY",
        "outputId": "fe4a5119-2008-4fae-f1b4-4c7389a8be53"
      },
      "execution_count": null,
      "outputs": [
        {
          "output_type": "stream",
          "name": "stdout",
          "text": [
            "Merged Sorted Array: [1, 2, 3, 4, 5, 6, 7, 8]\n"
          ]
        }
      ]
    },
    {
      "cell_type": "markdown",
      "source": [
        "### Length of last word"
      ],
      "metadata": {
        "id": "2wIo9023aL54"
      }
    },
    {
      "cell_type": "code",
      "source": [
        "def length_of_last_word(s):\n",
        "    # Strip any trailing spaces and split the string by spaces\n",
        "    words = s.strip().split()\n",
        "    # Return the length of the last word\n",
        "    return len(words[-1]) if words else 0\n",
        "\n",
        "# Example Usage\n",
        "sentence = \"Hello World\"\n",
        "result = length_of_last_word(sentence)\n",
        "print(\"Length of the Last Word:\", result)  # Output: Length of the Last Word: 5\n"
      ],
      "metadata": {
        "colab": {
          "base_uri": "https://localhost:8080/"
        },
        "id": "24KzwmIAZeQL",
        "outputId": "a685571c-16db-439e-a31b-a771e4cd50c7"
      },
      "execution_count": null,
      "outputs": [
        {
          "output_type": "stream",
          "name": "stdout",
          "text": [
            "Length of the Last Word: 5\n"
          ]
        }
      ]
    },
    {
      "cell_type": "code",
      "source": [
        "def length_of_first_word(s):\n",
        "    # Strip any leading/trailing spaces and split the string by spaces\n",
        "    words = s.strip().split()\n",
        "    # Return the length of the first word\n",
        "    return len(words[0]) if words else 0\n",
        "\n",
        "# Example Usage\n",
        "sentence = \"Hello World\"\n",
        "result = length_of_first_word(sentence)\n",
        "print(\"Length of the First Word:\", result)  # Output: Length of the First Word: 5\n"
      ],
      "metadata": {
        "colab": {
          "base_uri": "https://localhost:8080/"
        },
        "id": "h9q3v_sJZeNo",
        "outputId": "ecb60ff9-c7a9-4448-c70c-8571bdfe84df"
      },
      "execution_count": null,
      "outputs": [
        {
          "output_type": "stream",
          "name": "stdout",
          "text": [
            "Length of the First Word: 5\n"
          ]
        }
      ]
    },
    {
      "cell_type": "markdown",
      "source": [
        "### Group Anagrams Using a Dictionary"
      ],
      "metadata": {
        "id": "L6i0pTRUal5a"
      }
    },
    {
      "cell_type": "code",
      "source": [
        "def group_anagrams(words):\n",
        "    # Initialize an empty dictionary to hold groups of anagrams\n",
        "    anagram_dict = {}\n",
        "\n",
        "    # Iterate through each word in the list\n",
        "    for word in words:\n",
        "        # Sort the word and use it as a key\n",
        "        sorted_word = ''.join(sorted(word))\n",
        "        # Add the word to the corresponding key in the dictionary\n",
        "        if sorted_word in anagram_dict:\n",
        "            anagram_dict[sorted_word].append(word)\n",
        "        else:\n",
        "            anagram_dict[sorted_word] = [word]\n",
        "\n",
        "    # Return the grouped anagrams as a list of lists\n",
        "    return list(anagram_dict.values())\n",
        "\n",
        "# Example Usage\n",
        "words = [\"eat\", \"tea\", \"tan\", \"ate\", \"nat\", \"bat\"]\n",
        "result = group_anagrams(words)\n",
        "print(\"Grouped Anagrams:\", result)\n",
        "# Output: Grouped Anagrams: [['eat', 'tea', 'ate'], ['tan', 'nat'], ['bat']]\n"
      ],
      "metadata": {
        "colab": {
          "base_uri": "https://localhost:8080/"
        },
        "id": "4Jbj5p-xZeLB",
        "outputId": "83c4bbfc-aeaf-446e-8b73-c63750718e88"
      },
      "execution_count": null,
      "outputs": [
        {
          "output_type": "stream",
          "name": "stdout",
          "text": [
            "Grouped Anagrams: [['eat', 'tea', 'ate'], ['tan', 'nat'], ['bat']]\n"
          ]
        }
      ]
    },
    {
      "cell_type": "markdown",
      "source": [
        "### Maximum-number-of-vowels-in-a-substring-of0given-length"
      ],
      "metadata": {
        "id": "ijIwM3iDbNba"
      }
    },
    {
      "cell_type": "code",
      "source": [
        "def max_vowels_in_substring(s, k):\n",
        "    vowels = \"aeiou\"  # String of vowels\n",
        "    max_vowels = 0    # Maximum count of vowels\n",
        "\n",
        "    # Iterate through the string with a sliding window of length k\n",
        "    for i in range(len(s) - k + 1):\n",
        "        # Count vowels in the current substring\n",
        "        current_vowels = sum(1 for char in s[i:i+k] if char in vowels)\n",
        "        # Update the maximum vowels count\n",
        "        max_vowels = max(max_vowels, current_vowels)\n",
        "\n",
        "    return max_vowels\n",
        "\n",
        "# Example Usage\n",
        "s = \"abciiidef\"\n",
        "k = 3\n",
        "result = max_vowels_in_substring(s, k)\n",
        "print(\"Maximum number of vowels in a substring of length\", k, \":\", result)\n",
        "# Output: Maximum number of vowels in a substring of length 3 : 3\n"
      ],
      "metadata": {
        "colab": {
          "base_uri": "https://localhost:8080/"
        },
        "id": "X8CAem0vZeIl",
        "outputId": "67d1ff3c-6a15-45f2-d39a-3f052c2cd4d1"
      },
      "execution_count": null,
      "outputs": [
        {
          "output_type": "stream",
          "name": "stdout",
          "text": [
            "Maximum number of vowels in a substring of length 3 : 3\n"
          ]
        }
      ]
    },
    {
      "cell_type": "markdown",
      "source": [
        "### Products of Array Except Self"
      ],
      "metadata": {
        "id": "Uf5AltLzcZ2h"
      }
    },
    {
      "cell_type": "code",
      "source": [
        "def product_except_self(nums):\n",
        "    n = len(nums)\n",
        "    result = [1] * n\n",
        "\n",
        "    # Calculate prefix products\n",
        "    prefix = 1\n",
        "    for i in range(n):\n",
        "        result[i] = prefix\n",
        "        prefix *= nums[i]\n",
        "\n",
        "    # Calculate suffix products and multiply with prefix\n",
        "    suffix = 1\n",
        "    for i in range(n - 1, -1, -1):\n",
        "        result[i] *= suffix\n",
        "        suffix *= nums[i]\n",
        "\n",
        "    return result\n",
        "\n",
        "# Example Usage\n",
        "nums = [1, 2, 3, 4]\n",
        "result = product_except_self(nums)\n",
        "print(\"Product of array except self:\", result)\n",
        "# Output: Product of array except self: [24, 12, 8, 6]\n"
      ],
      "metadata": {
        "colab": {
          "base_uri": "https://localhost:8080/"
        },
        "id": "mw822mPLZeGC",
        "outputId": "29c96b93-b3bb-42de-d3ca-151ba55b25cc"
      },
      "execution_count": null,
      "outputs": [
        {
          "output_type": "stream",
          "name": "stdout",
          "text": [
            "Product of array except self: [24, 12, 8, 6]\n"
          ]
        }
      ]
    },
    {
      "cell_type": "markdown",
      "source": [
        "### Longest common subsequence"
      ],
      "metadata": {
        "id": "XBFceqeicyhY"
      }
    },
    {
      "cell_type": "code",
      "source": [
        "def longest_common_prefix(strs):\n",
        "    if not strs:\n",
        "        return \"\"\n",
        "\n",
        "    # Start with the first string as the prefix\n",
        "    prefix = strs[0]\n",
        "\n",
        "    # Compare the prefix with each string in the list\n",
        "    for string in strs[1:]:\n",
        "        # Shorten the prefix until it matches the start of the string\n",
        "        while string[:len(prefix)] != prefix and prefix:\n",
        "            prefix = prefix[:-1]\n",
        "        # If the prefix becomes empty, no common prefix exists\n",
        "        if not prefix:\n",
        "            return \"\"\n",
        "\n",
        "    return prefix\n",
        "\n",
        "# Example Usage\n",
        "strings = [\"flower\", \"flow\", \"flight\"]\n",
        "result = longest_common_prefix(strings)\n",
        "print(\"Longest Common Prefix:\", result)\n",
        "# Output: Longest Common Prefix: fl\n"
      ],
      "metadata": {
        "colab": {
          "base_uri": "https://localhost:8080/"
        },
        "id": "MTbYxIREZeDc",
        "outputId": "4e228792-c6ed-4532-a98f-cd33ef061036"
      },
      "execution_count": null,
      "outputs": [
        {
          "output_type": "stream",
          "name": "stdout",
          "text": [
            "Longest Common Prefix: fl\n"
          ]
        }
      ]
    },
    {
      "cell_type": "markdown",
      "source": [
        "### Longest Substring w/o repeating characters\n",
        "\n",
        "\n"
      ],
      "metadata": {
        "id": "qxJKM-q8eHzz"
      }
    },
    {
      "cell_type": "code",
      "source": [
        "def length_of_longest_substring(s):\n",
        "    char_set = set()  # To store unique characters\n",
        "    left = 0          # Left pointer of the sliding window\n",
        "    max_length = 0    # Maximum length of substring\n",
        "\n",
        "    for right in range(len(s)):\n",
        "        # If character is already in the set, remove characters from the left until it's removed\n",
        "        while s[right] in char_set:\n",
        "            char_set.remove(s[left])\n",
        "            left += 1\n",
        "        # Add the current character to the set\n",
        "        char_set.add(s[right])\n",
        "        # Update the maximum length\n",
        "        max_length = max(max_length, right - left + 1)\n",
        "\n",
        "    return max_length\n",
        "\n",
        "# Example Usage\n",
        "s = \"abcabcbb\"\n",
        "result = length_of_longest_substring(s)\n",
        "print(\"Length of Longest Substring Without Repeating Characters:\", result)\n",
        "# Output: Length of Longest Substring Without Repeating Characters: 3\n"
      ],
      "metadata": {
        "colab": {
          "base_uri": "https://localhost:8080/"
        },
        "id": "Td9oFPS-ZeA1",
        "outputId": "12e57527-ec26-4f12-f056-a52c9bc3c4b2"
      },
      "execution_count": null,
      "outputs": [
        {
          "output_type": "stream",
          "name": "stdout",
          "text": [
            "Length of Longest Substring Without Repeating Characters: 3\n"
          ]
        }
      ]
    },
    {
      "cell_type": "markdown",
      "source": [
        "### Move zeroes to the end"
      ],
      "metadata": {
        "id": "4zZXDXPxeyTw"
      }
    },
    {
      "cell_type": "code",
      "source": [
        "def move_zeros(arr):\n",
        "    # List to hold non-zero elements\n",
        "    non_zero_elements = [x for x in arr if x != 0]\n",
        "\n",
        "    # Calculate the number of zeros to be appended\n",
        "    num_zeros = len(arr) - len(non_zero_elements)\n",
        "\n",
        "    # Append zeros to the list of non-zero elements\n",
        "    result = non_zero_elements + [0] * num_zeros\n",
        "\n",
        "    return result\n",
        "\n",
        "# Example usage:\n",
        "input_array = [0, 1, 0, 3, 12]\n",
        "output_array = move_zeros(input_array)\n",
        "print(output_array)"
      ],
      "metadata": {
        "colab": {
          "base_uri": "https://localhost:8080/"
        },
        "id": "pzr0uyPdebAL",
        "outputId": "b4e96c4b-ec06-4631-9b27-2787d20ae97e"
      },
      "execution_count": null,
      "outputs": [
        {
          "output_type": "stream",
          "name": "stdout",
          "text": [
            "[1, 3, 12, 0, 0]\n"
          ]
        }
      ]
    },
    {
      "cell_type": "markdown",
      "source": [
        "### Remove * from string"
      ],
      "metadata": {
        "id": "-ibEuC9dfYUA"
      }
    },
    {
      "cell_type": "code",
      "source": [
        "def remove_asterisks(s):\n",
        "    return s.replace('*', '')\n",
        "\n",
        "# Example Usage\n",
        "string = \"he*llo*wo*rld*\"\n",
        "result = remove_asterisks(string)\n",
        "print(\"String after removing asterisks:\", result)\n",
        "# Output: String after removing asterisks: helloworld\n"
      ],
      "metadata": {
        "colab": {
          "base_uri": "https://localhost:8080/"
        },
        "id": "HYRPPCzzea9x",
        "outputId": "fd2b9188-d81f-4f86-b3a4-0a69a3888556"
      },
      "execution_count": null,
      "outputs": [
        {
          "output_type": "stream",
          "name": "stdout",
          "text": [
            "String after removing asterisks: helloworld\n"
          ]
        }
      ]
    },
    {
      "cell_type": "markdown",
      "source": [
        "### Minimum size subarray sum"
      ],
      "metadata": {
        "id": "zcZqnqyKgZFb"
      }
    },
    {
      "cell_type": "code",
      "source": [
        "def min_subarray_len(target, nums):\n",
        "    n = len(nums)\n",
        "    min_length = float('inf')\n",
        "\n",
        "    for i in range(n):\n",
        "        current_sum = 0\n",
        "        for j in range(i, n):\n",
        "            current_sum += nums[j]\n",
        "            if current_sum >= target:\n",
        "                min_length = min(min_length, j - i + 1)\n",
        "                break  # No need to continue if sum >= target\n",
        "\n",
        "    return min_length if min_length != float('inf') else 0\n",
        "\n",
        "# Example Usage\n",
        "target = 7\n",
        "nums = [2, 3, 1, 2, 4, 3]\n",
        "result = min_subarray_len(target, nums)\n",
        "print(\"Minimum Size Subarray Length:\", result)\n",
        "# Output: Minimum Size Subarray Length: 2\n"
      ],
      "metadata": {
        "colab": {
          "base_uri": "https://localhost:8080/"
        },
        "id": "lINypTchea70",
        "outputId": "6b3d8585-5ff7-47c0-a072-b7e2b4778d0f"
      },
      "execution_count": null,
      "outputs": [
        {
          "output_type": "stream",
          "name": "stdout",
          "text": [
            "Minimum Size Subarray Length: 2\n"
          ]
        }
      ]
    },
    {
      "cell_type": "markdown",
      "source": [
        "### Max Consective Ones III"
      ],
      "metadata": {
        "id": "AK6FL-sNhYWQ"
      }
    },
    {
      "cell_type": "code",
      "source": [
        "def max_consecutive_ones(nums, k):\n",
        "    left = 0\n",
        "    max_ones = 0\n",
        "    zero_count = 0\n",
        "\n",
        "    # Sliding window\n",
        "    for right in range(len(nums)):\n",
        "        if nums[right] == 0:\n",
        "            zero_count += 1\n",
        "\n",
        "        # Shrink the window if zero_count exceeds k\n",
        "        while zero_count > k:\n",
        "            if nums[left] == 0:\n",
        "                zero_count -= 1\n",
        "            left += 1\n",
        "\n",
        "        # Update the maximum length of the window\n",
        "        max_ones = max(max_ones, right - left + 1)\n",
        "\n",
        "    return max_ones\n",
        "\n",
        "# Example Usage\n",
        "nums = [1, 1, 0, 0, 1, 1, 1, 0, 1]\n",
        "k = 2\n",
        "result = max_consecutive_ones(nums, k)\n",
        "print(\"Maximum Consecutive Ones:\", result)\n",
        "# Output: Maximum Consecutive Ones: 6\n"
      ],
      "metadata": {
        "colab": {
          "base_uri": "https://localhost:8080/"
        },
        "id": "IOybUtyKhWPr",
        "outputId": "01c2d9af-3fcd-4db2-81f2-9151d14385b1"
      },
      "execution_count": null,
      "outputs": [
        {
          "output_type": "stream",
          "name": "stdout",
          "text": [
            "Maximum Consecutive Ones: 7\n"
          ]
        }
      ]
    },
    {
      "cell_type": "markdown",
      "source": [
        "### Longest Sub-array of 1's After Deleting one element"
      ],
      "metadata": {
        "id": "5qN6ZjpAhjWC"
      }
    },
    {
      "cell_type": "code",
      "source": [
        "def longest_subarray(nums):\n",
        "    left = 0\n",
        "    zero_count = 0\n",
        "    max_length = 0\n",
        "\n",
        "    for right in range(len(nums)):\n",
        "        if nums[right] == 0:\n",
        "            zero_count += 1\n",
        "\n",
        "        # Shrink the window if there are more than 1 zero\n",
        "        while zero_count > 1:\n",
        "            if nums[left] == 0:\n",
        "                zero_count -= 1\n",
        "            left += 1\n",
        "\n",
        "        # Update max_length (exclude one element for deletion)\n",
        "        max_length = max(max_length, right - left)\n",
        "\n",
        "    return max_length\n",
        "\n",
        "# Example Usage\n",
        "nums = [1, 1, 0, 1, 1, 1, 0, 1]\n",
        "result = longest_subarray(nums)\n",
        "print(\"Longest Subarray of 1's After Deleting One Element:\", result)\n",
        "# Output: Longest Subarray of 1's After Deleting One Element: 5\n"
      ],
      "metadata": {
        "colab": {
          "base_uri": "https://localhost:8080/"
        },
        "id": "zgC7EX4aea5z",
        "outputId": "5922969e-bf91-4dc4-9b75-aaf107b03969"
      },
      "execution_count": null,
      "outputs": [
        {
          "output_type": "stream",
          "name": "stdout",
          "text": [
            "Longest Subarray of 1's After Deleting One Element: 5\n"
          ]
        }
      ]
    },
    {
      "cell_type": "markdown",
      "source": [
        "### Duplicates check by specific number"
      ],
      "metadata": {
        "id": "gGKNq38Gm6BO"
      }
    },
    {
      "cell_type": "code",
      "source": [
        "def contains_nearby_duplicate(nums, k):\n",
        "    seen = set()  # Set to track elements in the sliding window\n",
        "\n",
        "    for i in range(len(nums)):\n",
        "        if nums[i] in seen:  # Duplicate found in range\n",
        "            return True\n",
        "        seen.add(nums[i])  # Add current element to the set\n",
        "\n",
        "        # Remove the element that's no longer in the window\n",
        "        if len(seen) > k:\n",
        "            seen.remove(nums[i - k])\n",
        "\n",
        "    return False\n",
        "\n",
        "# Example Usage\n",
        "nums = [1, 2, 3, 1]\n",
        "k = 3\n",
        "result = contains_nearby_duplicate(nums, k)\n",
        "print(\"Contains Nearby Duplicate:\", result)\n",
        "# Output: Contains Nearby Duplicate: True\n"
      ],
      "metadata": {
        "colab": {
          "base_uri": "https://localhost:8080/"
        },
        "id": "8WaQ6hulea3f",
        "outputId": "f347594f-4421-4621-9f5c-5abf0da2428b"
      },
      "execution_count": null,
      "outputs": [
        {
          "output_type": "stream",
          "name": "stdout",
          "text": [
            "Contains Nearby Duplicate: True\n"
          ]
        }
      ]
    },
    {
      "cell_type": "code",
      "source": [],
      "metadata": {
        "id": "gGaTNhBHea1i"
      },
      "execution_count": null,
      "outputs": []
    },
    {
      "cell_type": "code",
      "source": [
        "list1 = [1,2,3,\"a\",\"b\"]\n",
        "print(sum(item for item in list1 if isinstance(item, (int, float))))"
      ],
      "metadata": {
        "colab": {
          "base_uri": "https://localhost:8080/"
        },
        "id": "DT2KFnt-0xRm",
        "outputId": "461fc507-21db-4aaf-9cac-8a94ed4fd63e"
      },
      "execution_count": null,
      "outputs": [
        {
          "output_type": "stream",
          "name": "stdout",
          "text": [
            "6\n"
          ]
        }
      ]
    },
    {
      "cell_type": "code",
      "source": [
        "list1 = [1, 2, 3, \"a\", \"b\"]\n",
        "numeric_sum = sum(item for item in list1 if isinstance(item, (int)))\n",
        "print(numeric_sum)\n"
      ],
      "metadata": {
        "colab": {
          "base_uri": "https://localhost:8080/"
        },
        "id": "UIlC1p1-0xPF",
        "outputId": "f2c0249e-ca7f-476e-c1ef-a85ef90933ad"
      },
      "execution_count": null,
      "outputs": [
        {
          "output_type": "stream",
          "name": "stdout",
          "text": [
            "6\n"
          ]
        }
      ]
    },
    {
      "cell_type": "code",
      "source": [
        "characters = [item for item in list1 if isinstance(item, str)]\n",
        "characters, list1"
      ],
      "metadata": {
        "colab": {
          "base_uri": "https://localhost:8080/"
        },
        "id": "EBZaf9_B0xMK",
        "outputId": "924ad33e-b33c-414a-861e-a86d8ee16c81"
      },
      "execution_count": null,
      "outputs": [
        {
          "output_type": "execute_result",
          "data": {
            "text/plain": [
              "(['a', 'b'], [1, 2, 3, 'a', 'b'])"
            ]
          },
          "metadata": {},
          "execution_count": 49
        }
      ]
    },
    {
      "cell_type": "code",
      "source": [],
      "metadata": {
        "id": "humMAHCY0xJp"
      },
      "execution_count": null,
      "outputs": []
    },
    {
      "cell_type": "code",
      "source": [
        "def fibonacci(n_terms):\n",
        "    if n_terms <= 0:\n",
        "        return 0, []\n",
        "    elif n_terms == 1:\n",
        "        return 0, [0]\n",
        "\n",
        "    fib_series = [0, 1]\n",
        "    for _ in range(2, n_terms):\n",
        "        fib_series.append(fib_series[-1] + fib_series[-2])\n",
        "\n",
        "    return sum(fib_series), fib_series\n",
        "\n",
        "try:\n",
        "    n_terms = int(input(\"Enter the number of terms for the Fibonacci series: \"))\n",
        "    if n_terms < 0:\n",
        "        print(\"Please enter a positive integer.\")\n",
        "    else:\n",
        "        sum_of_fibonacci_series, fibonacci_series = fibonacci(n_terms)\n",
        "        print(f\"Fibonacci Series Sum for {n_terms} terms is {sum_of_fibonacci_series}.\")\n",
        "        print(f\"The series is: {fibonacci_series}\")\n",
        "except ValueError:\n",
        "    print(\"Invalid input! Please enter an integer.\")\n"
      ],
      "metadata": {
        "colab": {
          "base_uri": "https://localhost:8080/"
        },
        "id": "IJIXNIXDrEHq",
        "outputId": "61ee56e6-ddbf-4c74-bad7-71bd0290bd5e"
      },
      "execution_count": null,
      "outputs": [
        {
          "output_type": "stream",
          "name": "stdout",
          "text": [
            "Enter the number of terms for the Fibonacci series: a\n",
            "Invalid input! Please enter an integer.\n"
          ]
        }
      ]
    },
    {
      "cell_type": "markdown",
      "source": [
        "### Interchange First and Last Element"
      ],
      "metadata": {
        "id": "Yxg-wGQeAMoo"
      }
    },
    {
      "cell_type": "code",
      "source": [
        "# Original list\n",
        "my_list = [10, 20, 30, 40, 50]\n",
        "\n",
        "# Swap the first and last elements\n",
        "my_list[0], my_list[-1] = my_list[-1], my_list[0]\n",
        "\n",
        "print(\"List after swapping:\", my_list)\n"
      ],
      "metadata": {
        "colab": {
          "base_uri": "https://localhost:8080/"
        },
        "id": "DlnXkj3nts-1",
        "outputId": "2e83dde1-1a6a-4137-ef11-d25e6985e19e"
      },
      "execution_count": null,
      "outputs": [
        {
          "output_type": "stream",
          "name": "stdout",
          "text": [
            "List after swapping: [50, 20, 30, 40, 10]\n"
          ]
        }
      ]
    },
    {
      "cell_type": "markdown",
      "source": [
        "### Remove specified element in list"
      ],
      "metadata": {
        "id": "INHPnp2xBAQg"
      }
    },
    {
      "cell_type": "code",
      "source": [
        "list1 = [2,3,4,5,6]\n",
        "list1.remove(4)\n",
        "list1"
      ],
      "metadata": {
        "colab": {
          "base_uri": "https://localhost:8080/"
        },
        "id": "-X18dI-aAV3o",
        "outputId": "3b27973a-f652-4669-887b-be30334160bf"
      },
      "execution_count": null,
      "outputs": [
        {
          "output_type": "execute_result",
          "data": {
            "text/plain": [
              "[2, 3, 5, 6]"
            ]
          },
          "metadata": {},
          "execution_count": 120
        }
      ]
    },
    {
      "cell_type": "code",
      "source": [],
      "metadata": {
        "id": "jzam1TQyBPPh"
      },
      "execution_count": null,
      "outputs": []
    }
  ]
}